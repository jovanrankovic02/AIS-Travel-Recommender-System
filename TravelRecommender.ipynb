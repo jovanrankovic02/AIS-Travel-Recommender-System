{
 "cells": [
  {
   "cell_type": "code",
   "execution_count": 466,
   "metadata": {},
   "outputs": [],
   "source": [
    "import numpy as np\n",
    "import pandas as pd\n",
    "\n",
    "# Define the user preference and destination feature vectors\n",
    "\n",
    "# Naziv mesta,Cena smestaja za 1 osobu za 1 nocenje (€),Udaljenost od centra (m),Mogući broj putnika po sobi,Cena prevoza po osobi (€),Tip destinacije\n",
    "# url = 'https://github.com/jovanrankovic02/AIS-Travel-Recommender-System/blob/main/TravelDestinations.csv?raw=true'\n",
    "# data = pd.read_csv(url)\n",
    "\n",
    "destination_pool = [\n",
    "    (\"Makarska\", 40, 800, 3, 80, \"Letovanje\"),\n",
    "    (\"Sarajevo\", 100, 1500, 2, 120, \"Zimovanje\"),\n",
    "    (\"Sveti Stefan\", 15, 300, 6, 40, \"Letovanje\"),\n",
    "    (\"Miami\", 60, 2000, 4, 150, \"Letovanje\"),\n",
    "    (\"Bangkok\", 90, 2500, 3, 100, \"Letovanje\"),\n",
    "    (\"Sydney\", 75, 3500, 2, 130, \"Letovanje\"),\n",
    "    (\"Los Angeles\", 60, 4000, 5, 200, \"Letovanje\"),\n",
    "    (\"Dubai\", 70, 5000, 4, 180, \"Letovanje\"),\n",
    "    (\"Tokyo\", 33.33, 6000, 3, 100, \"Letovanje\"),\n",
    "    (\"Reykjavik\", 110, 7000, 2, 150, \"Zimovanje\"),\n",
    "    (\"Amsterdam\", 110, 8000, 1, 80, \"Letovanje\"),\n",
    "    (\"Cape Town\", 76.67, 9000, 3, 140, \"Letovanje\"),\n",
    "    (\"Rio de Janeiro\", 95, 10000, 2, 120, \"Letovanje\"),\n",
    "    (\"New York City\", 42.5, 11000, 4, 160, \"Letovanje\"),\n",
    "    (\"Santorini\", 66.67, 12000, 3, 140, \"Letovanje\"),\n",
    "    (\"Mauritius\", 125, 13000, 2, 180, \"Letovanje\"),\n",
    "    (\"Maldives\", 30, 14000, 5, 100, \"Letovanje\"),\n",
    "    (\"Bora Bora\", 67.5, 15000, 4, 200, \"Letovanje\"),\n",
    "    (\"Barcelona\", 60, 16000, 3, 120, \"Letovanje\"),\n",
    "    (\"Lisbon\", 70, 17000, 2, 90, \"Letovanje\"),\n",
    "    (\"Prague\", 160, 18000, 1, 100, \"Letovanje\"),\n",
    "    (\"Berlin\", 40, 19000, 3, 80, \"Zimovanje\"),\n",
    "    (\"Paris\", 45, 20000, 2, 90, \"Letovanje\"),\n",
    "    (\"Rome\", 25, 21000, 4, 60, \"Letovanje\"),\n",
    "    (\"London\", 43.33, 22000, 3, 80, \"Letovanje\"),\n",
    "    (\"Istanbul\", 55, 23000, 2, 70, \"Letovanje\"),\n",
    "    (\"Singapore\", 250, 24000, 1, 150, \"Letovanje\"),\n",
    "    (\"Seoul\", 60, 25000, 3, 120, \"Letovanje\"),\n",
    "    (\"Honolulu\", 150, 26000, 2, 200, \"Letovanje\"),\n",
    "    (\"Shanghai\", 70, 27000, 4, 140, \"Letovanje\"),\n",
    "    (\"Moscow\", 73.33, 28000, 3, 150, \"Letovanje\"),\n",
    "    (\"Buenos Aires\", 42.5, 29000, 2, 110, \"Letovanje\"),\n",
    "    (\"Cancun\", 26, 30000, 5, 130, \"Letovanje\"),\n",
    "    (\"Marrakech\", 75, 31000, 4, 180, \"Letovanje\"),\n",
    "    (\"Kyoto\", 76.67, 32000, 3, 150, \"Letovanje\"),\n",
    "    (\"Cairo\", 105, 33000, 2, 120, \"Letovanje\"),\n",
    "    (\"Havana\", 80, 34000, 1, 80, \"Letovanje\"),\n",
    "    (\"Vienna\", 23.33, 35000, 3, 70, \"Letovanje\"),\n",
    "    (\"Vancouver\", 150, 36000, 2, 200, \"Zimovanje\"),\n",
    "    (\"Toronto\", 70, 37000, 4, 180, \"Zimovanje\"),\n",
    "    (\"Budapest\", 43.33, 38000, 3, 160, \"Letovanje\"),\n",
    "    (\"Edinburgh\", 70, 39000, 2, 140, \"Letovanje\"),\n",
    "    (\"Auckland\", 24, 40000, 5, 120, \"Letovanje\"),\n",
    "    (\"Bariloche\", 50, 41000, 4, 100, \"Zimovanje\"),\n",
    "    (\"Cusco\", 60, 42000, 3, 80, \"Zimovanje\"),\n",
    "    (\"Prague\", 160, 43000, 2, 70, \"Letovanje\"),\n",
    "    (\"Krakow\", 60, 44000, 1, 60, \"Letovanje\"),\n",
    "    (\"Bruges\", 50, 45000, 3, 50, \"Letovanje\")\n",
    "]"
   ]
  },
  {
   "cell_type": "code",
   "execution_count": 467,
   "metadata": {},
   "outputs": [],
   "source": [
    "import random\n",
    "\n",
    "def generate_random_user_preferences():\n",
    "    total_budget = random.randint(500, 10000)\n",
    "    number_of_travelers = random.randint(1, 5)\n",
    "    preferred_distance = random.randint(0, 50000)\n",
    "    preferred_type = random.choice([\"Letovanje\", \"Zimovanje\"])\n",
    "    \n",
    "    return (total_budget, number_of_travelers, preferred_distance, preferred_type)\n",
    "\n",
    "# Generisanje i ispis slučajnih korisničkih preferencija\n",
    "random_preferences = generate_random_user_preferences()"
   ]
  },
  {
   "cell_type": "code",
   "execution_count": 468,
   "metadata": {},
   "outputs": [],
   "source": [
    "# Define hyperparameters\n",
    "num_clones = 48\n",
    "num_iterations = 20\n",
    "mutation_rate = 0.14"
   ]
  },
  {
   "cell_type": "code",
   "execution_count": 469,
   "metadata": {},
   "outputs": [],
   "source": [
    "def calculate_affinity(destination, user_preferences):\n",
    "    destination_name, accommodation_price, distance, max_passengers, transportation_price, destination_type = destination\n",
    "    total_budget, number_of_travelers, preferred_distance, preferred_type = user_preferences\n",
    "\n",
    "    penalty = 0\n",
    "\n",
    "    # Penalizacija ako se tip destinacije ne poklapa\n",
    "    if destination_type != preferred_type:\n",
    "        penalty += 10000  # Velika kazna\n",
    "\n",
    "    # Penalizacija ako je destinacija dalje od preferirane udaljenosti\n",
    "    if distance > preferred_distance:\n",
    "        penalty += distance - preferred_distance\n",
    "\n",
    "    # Izračunavanje ukupnih troškova za smeštaj i prevoz za sve putnike\n",
    "    total_cost = (accommodation_price * number_of_travelers) + (transportation_price * number_of_travelers)\n",
    "    \n",
    "    # Penalizacija ako ukupni troškovi prelaze budžet\n",
    "    if total_cost > total_budget:\n",
    "        penalty += total_cost - total_budget\n",
    "\n",
    "    # Izračunavanje afiniteta na osnovu udaljenosti od centra i troškova, uz penalizaciju\n",
    "    affinity = distance + total_cost + penalty\n",
    "    return affinity"
   ]
  },
  {
   "cell_type": "code",
   "execution_count": 470,
   "metadata": {},
   "outputs": [],
   "source": [
    "def generate_clones(selected_destinations, num_clones):\n",
    "    # Generate clones for each selected destination\n",
    "    clones = []\n",
    "    for destination in selected_destinations:\n",
    "        clones.extend([destination] * num_clones)\n",
    "    return clones"
   ]
  },
  {
   "cell_type": "code",
   "execution_count": 471,
   "metadata": {},
   "outputs": [],
   "source": [
    "def apply_mutation(clones, mutation_rate):\n",
    "    # Mutate the clones with a certain mutation rate\n",
    "    mutated_clones = []\n",
    "    for clone in clones:\n",
    "        if np.random.rand() < mutation_rate:\n",
    "            # Apply some mutation, for simplicity we'll just alter the distance by a small random amount\n",
    "            mutated_clone = list(clone)\n",
    "            mutated_clone[2] = max(0, mutated_clone[2] + np.random.randint(-50, 50))  # Mutate the distance, ensure non-negative distance\n",
    "            mutated_clones.append(tuple(mutated_clone))\n",
    "        else:\n",
    "            mutated_clones.append(clone)\n",
    "    return mutated_clones"
   ]
  },
  {
   "cell_type": "code",
   "execution_count": 472,
   "metadata": {},
   "outputs": [],
   "source": [
    "def recommend_travel_destination(user_preferences, destination_pool, num_clones, num_iterations, mutation_rate):\n",
    "    memory_cells = []\n",
    "\n",
    "    for iteration in range(num_iterations):\n",
    "        # Calculate affinities\n",
    "        affinities = [calculate_affinity(destination, user_preferences) for destination in destination_pool]\n",
    "\n",
    "        # Select the best matching destinations\n",
    "        selected_indices = np.argsort(affinities)[:num_clones]\n",
    "        selected_destinations = [destination_pool[i] for i in selected_indices]\n",
    "\n",
    "        # Generate clones\n",
    "        clones = generate_clones(selected_destinations, num_clones)\n",
    "\n",
    "        # Apply mutation\n",
    "        mutated_clones = apply_mutation(clones, mutation_rate)\n",
    "\n",
    "        # Evaluate the mutated clones\n",
    "        clone_affinities = [calculate_affinity(clone, user_preferences) for clone in mutated_clones]\n",
    "\n",
    "        # Select the best clone\n",
    "        best_clone_index = np.argmin(clone_affinities)\n",
    "        best_clone = mutated_clones[best_clone_index]\n",
    "\n",
    "        # Update memory cells\n",
    "        memory_cells.append(best_clone)\n",
    "\n",
    "    # Select the best memory cell as the final recommendation\n",
    "    memory_affinities = [calculate_affinity(cell, user_preferences) for cell in memory_cells]\n",
    "    best_memory_index = np.argmin(memory_affinities)\n",
    "    best_memory_cell = memory_cells[best_memory_index]\n",
    "\n",
    "    return best_memory_cell"
   ]
  },
  {
   "cell_type": "code",
   "execution_count": 473,
   "metadata": {},
   "outputs": [
    {
     "name": "stdout",
     "output_type": "stream",
     "text": [
      "Preporučena destinacija: ('Sveti Stefan', 15, 250, 6, 40, 'Letovanje')\n"
     ]
    }
   ],
   "source": [
    "# Preporuči destinaciju\n",
    "recommended_destination = recommend_travel_destination(random_preferences, destination_pool, num_clones, num_iterations, mutation_rate)\n",
    "print(f\"Preporučena destinacija: {recommended_destination}\")"
   ]
  }
 ],
 "metadata": {
  "kernelspec": {
   "display_name": "Python 3",
   "language": "python",
   "name": "python3"
  },
  "language_info": {
   "codemirror_mode": {
    "name": "ipython",
    "version": 3
   },
   "file_extension": ".py",
   "mimetype": "text/x-python",
   "name": "python",
   "nbconvert_exporter": "python",
   "pygments_lexer": "ipython3",
   "version": "3.10.12"
  }
 },
 "nbformat": 4,
 "nbformat_minor": 2
}
