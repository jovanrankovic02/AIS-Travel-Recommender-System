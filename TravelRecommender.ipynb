{
 "cells": [
  {
   "cell_type": "code",
   "execution_count": null,
   "metadata": {},
   "outputs": [],
   "source": [
    "import numpy as np\n",
    "import pandas as pd\n",
    "import random\n",
    "\n",
    "# Define the user preference and destination feature vectors\n",
    "\n",
    "# Naziv mesta,Cena smestaja za 1 osobu za 1 nocenje (€),Udaljenost od centra (m),Mogući broj putnika po sobi,Cena prevoza po osobi (€),Tip destinacije\n",
    "url = 'https://github.com/jovanrankovic02/AIS-Travel-Recommender-System/blob/main/TravelDestinations.csv?raw=true'\n",
    "data = pd.read_csv(url)\n",
    "\n",
    "#user_preferences = np.array([4, 3, 5, 2, 4])\n",
    "#destination_pool = [\n",
    "    #np.array([5, 3, 4, 2, 4]),\n",
    "    #np.array([2, 5, 3, 4, 5]),\n",
    "   # np.array([4, 4, 5, 1, 3]),\n",
    "  #  np.array([3, 3, 4, 5, 4]),\n",
    " #   np.array([5, 4, 4, 3, 4])\n",
    "#]"
   ]
  },
  {
   "cell_type": "code",
   "execution_count": null,
   "metadata": {},
   "outputs": [],
   "source": [
    "# Define hyperparameters\n",
    "num_clones = 48\n",
    "num_iterations = 10\n",
    "mutation_rate = 0.1"
   ]
  },
  {
   "cell_type": "code",
   "execution_count": null,
   "metadata": {},
   "outputs": [],
   "source": [
    "# Function to calculate affinity (similarity)\n",
    "def calculate_affinity(preference, destination):\n",
    "    return np.linalg.norm(preference - destination)"
   ]
  },
  {
   "cell_type": "code",
   "execution_count": null,
   "metadata": {},
   "outputs": [],
   "source": [
    "# Function to generate clones\n",
    "def generate_clones(antibodies, num_clones):\n",
    "    clones = []\n",
    "    for antibody in antibodies:\n",
    "        for _ in range(num_clones):\n",
    "            clone = antibody.copy()\n",
    "            clones.append(clone)\n",
    "    return clones"
   ]
  },
  {
   "cell_type": "code",
   "execution_count": null,
   "metadata": {},
   "outputs": [],
   "source": [
    "# Function to apply mutation\n",
    "def apply_mutation(clones, mutation_rate):\n",
    "    mutated_clones = []\n",
    "    for clone in clones:\n",
    "        if random.random() < mutation_rate:\n",
    "            mutation_vector = np.random.normal(0, 1, clone.shape)\n",
    "            clone = clone + mutation_vector\n",
    "            clone = np.clip(clone, 1, 5)  # Assuming the feature range is 1 to 5\n",
    "        mutated_clones.append(clone)\n",
    "    return mutated_clones"
   ]
  },
  {
   "cell_type": "code",
   "execution_count": null,
   "metadata": {},
   "outputs": [],
   "source": [
    "# Main AIS-based recommendation function\n",
    "def recommend_travel_destination(user_preferences, destination_pool, num_clones, num_iterations, mutation_rate):\n",
    "    memory_cells = []\n",
    "\n",
    "    for iteration in range(num_iterations):\n",
    "        # Calculate affinities\n",
    "        affinities = [calculate_affinity(user_preferences, destination) for destination in destination_pool]\n",
    "\n",
    "        # Select the best matching destinations\n",
    "        selected_indices = np.argsort(affinities)[:num_clones]\n",
    "        selected_destinations = [destination_pool[i] for i in selected_indices]\n",
    "\n",
    "        # Generate clones\n",
    "        clones = generate_clones(selected_destinations, num_clones)\n",
    "\n",
    "        # Apply mutation\n",
    "        mutated_clones = apply_mutation(clones, mutation_rate)\n",
    "\n",
    "        # Evaluate the mutated clones\n",
    "        clone_affinities = [calculate_affinity(user_preferences, clone) for clone in mutated_clones]\n",
    "\n",
    "        # Select the best clone\n",
    "        best_clone_index = np.argmin(clone_affinities)\n",
    "        best_clone = mutated_clones[best_clone_index]\n",
    "\n",
    "        # Update memory cells\n",
    "        memory_cells.append(best_clone)\n",
    "        \n",
    "        # Select the best memory cell as the final recommendation\n",
    "        memory_affinities = [calculate_affinity(user_preferences, cell) for cell in memory_cells]\n",
    "        best_memory_index = np.argmin(memory_affinities)\n",
    "        best_memory_cell = memory_cells[best_memory_index]\n",
    "\n",
    "    return best_memory_cell"
   ]
  },
  {
   "cell_type": "code",
   "execution_count": null,
   "metadata": {},
   "outputs": [],
   "source": [
    "# Get the recommended travel destination\n",
    "recommended_destination = recommend_travel_destination(user_preferences, destination_pool, num_clones, num_iterations, mutation_rate)\n",
    "print(\"Recommended Travel Destination:\", recommended_destination)"
   ]
  }
 ],
 "metadata": {
  "kernelspec": {
   "display_name": "Python 3",
   "language": "python",
   "name": "python3"
  },
  "language_info": {
   "codemirror_mode": {
    "name": "ipython",
    "version": 3
   },
   "file_extension": ".py",
   "mimetype": "text/x-python",
   "name": "python",
   "nbconvert_exporter": "python",
   "pygments_lexer": "ipython3",
   "version": "3.10.12"
  }
 },
 "nbformat": 4,
 "nbformat_minor": 2
}
